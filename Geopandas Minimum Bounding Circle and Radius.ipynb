{
 "cells": [
  {
   "cell_type": "code",
   "execution_count": 1,
   "id": "dc7bfed4-f3bd-4441-8f54-4e83e11b6ec8",
   "metadata": {
    "execution": {
     "iopub.execute_input": "2025-01-31T14:50:21.617334Z",
     "iopub.status.busy": "2025-01-31T14:50:21.616873Z",
     "iopub.status.idle": "2025-01-31T14:50:26.700835Z",
     "shell.execute_reply": "2025-01-31T14:50:26.697918Z",
     "shell.execute_reply.started": "2025-01-31T14:50:21.617285Z"
    }
   },
   "outputs": [],
   "source": [
    "import geopandas as gpd\n",
    "#import pandas as pd\n",
    "import os\n",
    "import pydeck as pdk"
   ]
  },
  {
   "cell_type": "code",
   "execution_count": 2,
   "id": "cf233a3e-a143-45c5-9b5b-9dd4bc66bd9d",
   "metadata": {
    "execution": {
     "iopub.execute_input": "2025-01-31T14:50:26.706398Z",
     "iopub.status.busy": "2025-01-31T14:50:26.705781Z",
     "iopub.status.idle": "2025-01-31T14:50:27.249025Z",
     "shell.execute_reply": "2025-01-31T14:50:27.247884Z",
     "shell.execute_reply.started": "2025-01-31T14:50:26.706348Z"
    }
   },
   "outputs": [],
   "source": [
    "# read shapefile\n",
    "gpd_df = gpd.read_file(\n",
    "    os.path.join(os.path.dirname(\"__file__\"), \"shp/cambridge_locations.shp\")\n",
    ")"
   ]
  },
  {
   "cell_type": "code",
   "execution_count": 3,
   "id": "8953c70e-ed6b-4ac6-8fe0-0013cb1bb2c4",
   "metadata": {
    "execution": {
     "iopub.execute_input": "2025-01-31T14:50:27.250536Z",
     "iopub.status.busy": "2025-01-31T14:50:27.249988Z",
     "iopub.status.idle": "2025-01-31T14:50:27.265554Z",
     "shell.execute_reply": "2025-01-31T14:50:27.263892Z",
     "shell.execute_reply.started": "2025-01-31T14:50:27.250494Z"
    }
   },
   "outputs": [
    {
     "data": {
      "text/plain": [
       "<Geographic 2D CRS: EPSG:4326>\n",
       "Name: WGS 84\n",
       "Axis Info [ellipsoidal]:\n",
       "- Lat[north]: Geodetic latitude (degree)\n",
       "- Lon[east]: Geodetic longitude (degree)\n",
       "Area of Use:\n",
       "- name: World.\n",
       "- bounds: (-180.0, -90.0, 180.0, 90.0)\n",
       "Datum: World Geodetic System 1984 ensemble\n",
       "- Ellipsoid: WGS 84\n",
       "- Prime Meridian: Greenwich"
      ]
     },
     "execution_count": 3,
     "metadata": {},
     "output_type": "execute_result"
    }
   ],
   "source": [
    "gpd_df.crs"
   ]
  },
  {
   "cell_type": "code",
   "execution_count": 4,
   "id": "feba1930-586d-4909-94ca-3f58b8c9c668",
   "metadata": {
    "execution": {
     "iopub.execute_input": "2025-01-31T14:50:27.267405Z",
     "iopub.status.busy": "2025-01-31T14:50:27.266893Z",
     "iopub.status.idle": "2025-01-31T14:50:27.310324Z",
     "shell.execute_reply": "2025-01-31T14:50:27.308806Z",
     "shell.execute_reply.started": "2025-01-31T14:50:27.267321Z"
    }
   },
   "outputs": [],
   "source": [
    "gpd_2d_df = gpd.GeoDataFrame(\n",
    "    geometry=gpd.points_from_xy(\n",
    "        gpd_df.geometry.x,\n",
    "        gpd_df.geometry.y\n",
    "    )\n",
    ")"
   ]
  },
  {
   "cell_type": "code",
   "execution_count": 5,
   "id": "216c2a46-2099-462e-86e0-57f1a6e2efdd",
   "metadata": {
    "execution": {
     "iopub.execute_input": "2025-01-31T14:50:27.311759Z",
     "iopub.status.busy": "2025-01-31T14:50:27.311303Z",
     "iopub.status.idle": "2025-01-31T14:50:27.355323Z",
     "shell.execute_reply": "2025-01-31T14:50:27.354290Z",
     "shell.execute_reply.started": "2025-01-31T14:50:27.311723Z"
    },
    "scrolled": true
   },
   "outputs": [
    {
     "data": {
      "text/html": [
       "<div>\n",
       "<style scoped>\n",
       "    .dataframe tbody tr th:only-of-type {\n",
       "        vertical-align: middle;\n",
       "    }\n",
       "\n",
       "    .dataframe tbody tr th {\n",
       "        vertical-align: top;\n",
       "    }\n",
       "\n",
       "    .dataframe thead th {\n",
       "        text-align: right;\n",
       "    }\n",
       "</style>\n",
       "<table border=\"1\" class=\"dataframe\">\n",
       "  <thead>\n",
       "    <tr style=\"text-align: right;\">\n",
       "      <th></th>\n",
       "      <th>geometry</th>\n",
       "    </tr>\n",
       "  </thead>\n",
       "  <tbody>\n",
       "    <tr>\n",
       "      <th>0</th>\n",
       "      <td>POINT (-71.10424 42.37452)</td>\n",
       "    </tr>\n",
       "    <tr>\n",
       "      <th>1</th>\n",
       "      <td>POINT (-71.08696 42.37283)</td>\n",
       "    </tr>\n",
       "    <tr>\n",
       "      <th>2</th>\n",
       "      <td>POINT (-71.10424 42.37452)</td>\n",
       "    </tr>\n",
       "    <tr>\n",
       "      <th>3</th>\n",
       "      <td>POINT (-71.11168 42.37434)</td>\n",
       "    </tr>\n",
       "    <tr>\n",
       "      <th>4</th>\n",
       "      <td>POINT (-71.11188 42.36984)</td>\n",
       "    </tr>\n",
       "    <tr>\n",
       "      <th>5</th>\n",
       "      <td>POINT (-71.11328 42.36584)</td>\n",
       "    </tr>\n",
       "    <tr>\n",
       "      <th>6</th>\n",
       "      <td>POINT (-71.10694 42.35931)</td>\n",
       "    </tr>\n",
       "    <tr>\n",
       "      <th>7</th>\n",
       "      <td>POINT (-71.10237 42.36081)</td>\n",
       "    </tr>\n",
       "    <tr>\n",
       "      <th>8</th>\n",
       "      <td>POINT (-71.09156 42.36453)</td>\n",
       "    </tr>\n",
       "    <tr>\n",
       "      <th>9</th>\n",
       "      <td>POINT (-71.09005 42.36621)</td>\n",
       "    </tr>\n",
       "    <tr>\n",
       "      <th>10</th>\n",
       "      <td>POINT (-71.10368 42.36973)</td>\n",
       "    </tr>\n",
       "    <tr>\n",
       "      <th>11</th>\n",
       "      <td>POINT (-71.09795 42.36927)</td>\n",
       "    </tr>\n",
       "    <tr>\n",
       "      <th>12</th>\n",
       "      <td>POINT (-71.10791 42.372)</td>\n",
       "    </tr>\n",
       "    <tr>\n",
       "      <th>13</th>\n",
       "      <td>POINT (-71.1001 42.36665)</td>\n",
       "    </tr>\n",
       "    <tr>\n",
       "      <th>14</th>\n",
       "      <td>POINT (-71.10433 42.36426)</td>\n",
       "    </tr>\n",
       "    <tr>\n",
       "      <th>15</th>\n",
       "      <td>POINT (-71.09578 42.36698)</td>\n",
       "    </tr>\n",
       "    <tr>\n",
       "      <th>16</th>\n",
       "      <td>POINT (-71.10823 42.36298)</td>\n",
       "    </tr>\n",
       "    <tr>\n",
       "      <th>17</th>\n",
       "      <td>POINT (-71.10815 42.36781)</td>\n",
       "    </tr>\n",
       "    <tr>\n",
       "      <th>18</th>\n",
       "      <td>POINT (-71.10724 42.35547)</td>\n",
       "    </tr>\n",
       "    <tr>\n",
       "      <th>19</th>\n",
       "      <td>POINT (-71.08696 42.37283)</td>\n",
       "    </tr>\n",
       "    <tr>\n",
       "      <th>20</th>\n",
       "      <td>POINT (-71.10969 42.36103)</td>\n",
       "    </tr>\n",
       "    <tr>\n",
       "      <th>21</th>\n",
       "      <td>POINT (-71.10129 42.35913)</td>\n",
       "    </tr>\n",
       "    <tr>\n",
       "      <th>22</th>\n",
       "      <td>POINT (-71.09208 42.3624)</td>\n",
       "    </tr>\n",
       "    <tr>\n",
       "      <th>23</th>\n",
       "      <td>POINT (-71.0988 42.36323)</td>\n",
       "    </tr>\n",
       "    <tr>\n",
       "      <th>24</th>\n",
       "      <td>POINT (-71.09813 42.35965)</td>\n",
       "    </tr>\n",
       "  </tbody>\n",
       "</table>\n",
       "</div>"
      ],
      "text/plain": [
       "                      geometry\n",
       "0   POINT (-71.10424 42.37452)\n",
       "1   POINT (-71.08696 42.37283)\n",
       "2   POINT (-71.10424 42.37452)\n",
       "3   POINT (-71.11168 42.37434)\n",
       "4   POINT (-71.11188 42.36984)\n",
       "5   POINT (-71.11328 42.36584)\n",
       "6   POINT (-71.10694 42.35931)\n",
       "7   POINT (-71.10237 42.36081)\n",
       "8   POINT (-71.09156 42.36453)\n",
       "9   POINT (-71.09005 42.36621)\n",
       "10  POINT (-71.10368 42.36973)\n",
       "11  POINT (-71.09795 42.36927)\n",
       "12    POINT (-71.10791 42.372)\n",
       "13   POINT (-71.1001 42.36665)\n",
       "14  POINT (-71.10433 42.36426)\n",
       "15  POINT (-71.09578 42.36698)\n",
       "16  POINT (-71.10823 42.36298)\n",
       "17  POINT (-71.10815 42.36781)\n",
       "18  POINT (-71.10724 42.35547)\n",
       "19  POINT (-71.08696 42.37283)\n",
       "20  POINT (-71.10969 42.36103)\n",
       "21  POINT (-71.10129 42.35913)\n",
       "22   POINT (-71.09208 42.3624)\n",
       "23   POINT (-71.0988 42.36323)\n",
       "24  POINT (-71.09813 42.35965)"
      ]
     },
     "execution_count": 5,
     "metadata": {},
     "output_type": "execute_result"
    }
   ],
   "source": [
    "gpd_2d_df"
   ]
  },
  {
   "cell_type": "markdown",
   "id": "c626b2c5-5426-4c12-8c56-ca9e42044cd6",
   "metadata": {},
   "source": [
    "We aggregate multiple individual points in 24 rows of a dataframe into individual points in a 1 row dataframe using the method `dissolve` as described in [Aggregation with dissolve — GeoPandas 1.0.1+0.g747d66e.dirty documentation](https://geopandas.org/en/stable/docs/user_guide/aggregation_with_dissolve.html)"
   ]
  },
  {
   "cell_type": "code",
   "execution_count": 6,
   "id": "1fe37d6f-97fb-4040-b90e-67e356f1d739",
   "metadata": {
    "execution": {
     "iopub.execute_input": "2025-01-31T14:50:27.357782Z",
     "iopub.status.busy": "2025-01-31T14:50:27.356614Z",
     "iopub.status.idle": "2025-01-31T14:50:27.400186Z",
     "shell.execute_reply": "2025-01-31T14:50:27.399152Z",
     "shell.execute_reply.started": "2025-01-31T14:50:27.357727Z"
    }
   },
   "outputs": [
    {
     "data": {
      "text/html": [
       "<div>\n",
       "<style scoped>\n",
       "    .dataframe tbody tr th:only-of-type {\n",
       "        vertical-align: middle;\n",
       "    }\n",
       "\n",
       "    .dataframe tbody tr th {\n",
       "        vertical-align: top;\n",
       "    }\n",
       "\n",
       "    .dataframe thead th {\n",
       "        text-align: right;\n",
       "    }\n",
       "</style>\n",
       "<table border=\"1\" class=\"dataframe\">\n",
       "  <thead>\n",
       "    <tr style=\"text-align: right;\">\n",
       "      <th></th>\n",
       "      <th>geometry</th>\n",
       "    </tr>\n",
       "  </thead>\n",
       "  <tbody>\n",
       "    <tr>\n",
       "      <th>0</th>\n",
       "      <td>MULTIPOINT ((-71.11328 42.36584), (-71.11188 4...</td>\n",
       "    </tr>\n",
       "  </tbody>\n",
       "</table>\n",
       "</div>"
      ],
      "text/plain": [
       "                                            geometry\n",
       "0  MULTIPOINT ((-71.11328 42.36584), (-71.11188 4..."
      ]
     },
     "execution_count": 6,
     "metadata": {},
     "output_type": "execute_result"
    }
   ],
   "source": [
    "gpd_polygon_df = gpd_2d_df.dissolve()\n",
    "gpd_polygon_df"
   ]
  },
  {
   "cell_type": "code",
   "execution_count": null,
   "id": "4a32dde3-0bad-4b9e-87f2-94d0aa0865de",
   "metadata": {},
   "outputs": [],
   "source": []
  },
  {
   "cell_type": "markdown",
   "id": "225c5973-0879-4e2d-a9fc-7beaa0a68ddb",
   "metadata": {},
   "source": [
    "We plot the points below"
   ]
  },
  {
   "cell_type": "code",
   "execution_count": 7,
   "id": "5d57250b-a58e-400a-b60c-3c3ee38f338f",
   "metadata": {
    "execution": {
     "iopub.execute_input": "2025-01-31T14:50:27.401681Z",
     "iopub.status.busy": "2025-01-31T14:50:27.401236Z",
     "iopub.status.idle": "2025-01-31T14:50:29.353678Z",
     "shell.execute_reply": "2025-01-31T14:50:29.352664Z",
     "shell.execute_reply.started": "2025-01-31T14:50:27.401642Z"
    }
   },
   "outputs": [
    {
     "data": {
      "text/plain": [
       "<Axes: >"
      ]
     },
     "execution_count": 7,
     "metadata": {},
     "output_type": "execute_result"
    },
    {
     "data": {
      "image/png": "[encoded data removed]",
      "text/plain": [
       "<Figure size 640x480 with 1 Axes>"
      ]
     },
     "metadata": {},
     "output_type": "display_data"
    }
   ],
   "source": [
    "gpd_polygon_df.plot()"
   ]
  },
  {
   "cell_type": "code",
   "execution_count": null,
   "id": "e3720abd-ea85-4886-a68d-cfebc422d023",
   "metadata": {},
   "outputs": [],
   "source": []
  },
  {
   "cell_type": "markdown",
   "id": "ca966a3b-09d0-4849-bd19-048e35400ac3",
   "metadata": {},
   "source": [
    "We plot the points of the concave hull. Concave hull is described in [geopandas.GeoSeries.concave_hull — GeoPandas 1.0.1+0.g747d66e.dirty documentation](https://geopandas.org/en/stable/docs/reference/api/geopandas.GeoSeries.concave_hull.html#geopandas.GeoSeries.concave_hull)."
   ]
  },
  {
   "cell_type": "code",
   "execution_count": 8,
   "id": "dee7d2e5-1abf-483a-9ca5-6b0d51bbf862",
   "metadata": {
    "execution": {
     "iopub.execute_input": "2025-01-31T14:50:29.355162Z",
     "iopub.status.busy": "2025-01-31T14:50:29.354711Z",
     "iopub.status.idle": "2025-01-31T14:50:29.506329Z",
     "shell.execute_reply": "2025-01-31T14:50:29.505322Z",
     "shell.execute_reply.started": "2025-01-31T14:50:29.355131Z"
    }
   },
   "outputs": [
    {
     "data": {
      "text/plain": [
       "<Axes: >"
      ]
     },
     "execution_count": 8,
     "metadata": {},
     "output_type": "execute_result"
    },
    {
     "data": {
      "image/png": "[encoded data removed]",
      "text/plain": [
       "<Figure size 640x480 with 1 Axes>"
      ]
     },
     "metadata": {},
     "output_type": "display_data"
    }
   ],
   "source": [
    "gpd_polygon_df.concave_hull().plot()"
   ]
  },
  {
   "cell_type": "code",
   "execution_count": null,
   "id": "50aa3722-c176-408d-8ced-b0e4e1db2e32",
   "metadata": {},
   "outputs": [],
   "source": []
  },
  {
   "cell_type": "markdown",
   "id": "2793052d-0b79-44e6-ba68-52d394f48204",
   "metadata": {},
   "source": [
    "We plot the points of the convex hull. Convex hull is described in [geopandas.GeoSeries.convex_hull — GeoPandas 1.0.1+0.g747d66e.dirty documentation](https://geopandas.org/en/stable/docs/reference/api/geopandas.GeoSeries.convex_hull.html#geopandas.GeoSeries.convex_hull)."
   ]
  },
  {
   "cell_type": "code",
   "execution_count": 9,
   "id": "1e88e451-dbc5-4770-95b4-81e80a5f87ad",
   "metadata": {
    "execution": {
     "iopub.execute_input": "2025-01-31T14:50:29.507416Z",
     "iopub.status.busy": "2025-01-31T14:50:29.507115Z",
     "iopub.status.idle": "2025-01-31T14:50:29.666031Z",
     "shell.execute_reply": "2025-01-31T14:50:29.665096Z",
     "shell.execute_reply.started": "2025-01-31T14:50:29.507394Z"
    }
   },
   "outputs": [
    {
     "data": {
      "text/plain": [
       "<Axes: >"
      ]
     },
     "execution_count": 9,
     "metadata": {},
     "output_type": "execute_result"
    },
    {
     "data": {
      "image/png": "[encoded data removed]",
      "text/plain": [
       "<Figure size 640x480 with 1 Axes>"
      ]
     },
     "metadata": {},
     "output_type": "display_data"
    }
   ],
   "source": [
    "gpd_polygon_df.convex_hull.plot()"
   ]
  },
  {
   "cell_type": "code",
   "execution_count": 10,
   "id": "f758104e-bf90-4b62-af73-d34b754e5883",
   "metadata": {
    "execution": {
     "iopub.execute_input": "2025-01-31T14:50:29.666779Z",
     "iopub.status.busy": "2025-01-31T14:50:29.666593Z",
     "iopub.status.idle": "2025-01-31T14:50:29.675527Z",
     "shell.execute_reply": "2025-01-31T14:50:29.674099Z",
     "shell.execute_reply.started": "2025-01-31T14:50:29.666763Z"
    }
   },
   "outputs": [
    {
     "data": {
      "text/plain": [
       "0    POINT (-71.10228 42.3656)\n",
       "dtype: geometry"
      ]
     },
     "execution_count": 10,
     "metadata": {},
     "output_type": "execute_result"
    }
   ],
   "source": [
    "gpd_polygon_df.geometry.centroid"
   ]
  },
  {
   "cell_type": "code",
   "execution_count": 11,
   "id": "3f0e2f30-36a2-4bdd-b9c2-057615392f0c",
   "metadata": {
    "execution": {
     "iopub.execute_input": "2025-01-31T14:50:29.677293Z",
     "iopub.status.busy": "2025-01-31T14:50:29.676814Z",
     "iopub.status.idle": "2025-01-31T14:50:29.711732Z",
     "shell.execute_reply": "2025-01-31T14:50:29.710277Z",
     "shell.execute_reply.started": "2025-01-31T14:50:29.677249Z"
    }
   },
   "outputs": [
    {
     "data": {
      "text/plain": [
       "0    POLYGON ((-71.08577 42.3672, -71.08604 42.3644...\n",
       "dtype: geometry"
      ]
     },
     "execution_count": 11,
     "metadata": {},
     "output_type": "execute_result"
    }
   ],
   "source": [
    "gpd_polygon_df.minimum_bounding_circle()"
   ]
  },
  {
   "cell_type": "code",
   "execution_count": 12,
   "id": "fe25468e-a1f0-4aac-8fb6-50811490ba0b",
   "metadata": {
    "execution": {
     "iopub.execute_input": "2025-01-31T14:50:29.713684Z",
     "iopub.status.busy": "2025-01-31T14:50:29.713150Z",
     "iopub.status.idle": "2025-01-31T14:50:29.739871Z",
     "shell.execute_reply": "2025-01-31T14:50:29.738887Z",
     "shell.execute_reply.started": "2025-01-31T14:50:29.713634Z"
    }
   },
   "outputs": [
    {
     "data": {
      "text/plain": [
       "0    POINT (-71.09971 42.3672)\n",
       "dtype: geometry"
      ]
     },
     "execution_count": 12,
     "metadata": {},
     "output_type": "execute_result"
    }
   ],
   "source": [
    "gpd_polygon_df.minimum_bounding_circle().centroid"
   ]
  },
  {
   "cell_type": "code",
   "execution_count": 13,
   "id": "29df1db9-217c-427f-910e-2b58b7d259f7",
   "metadata": {
    "execution": {
     "iopub.execute_input": "2025-01-31T14:50:29.742932Z",
     "iopub.status.busy": "2025-01-31T14:50:29.741696Z",
     "iopub.status.idle": "2025-01-31T14:50:29.766388Z",
     "shell.execute_reply": "2025-01-31T14:50:29.764839Z",
     "shell.execute_reply.started": "2025-01-31T14:50:29.742867Z"
    }
   },
   "outputs": [
    {
     "data": {
      "text/plain": [
       "0    0.013938\n",
       "dtype: float64"
      ]
     },
     "execution_count": 13,
     "metadata": {},
     "output_type": "execute_result"
    }
   ],
   "source": [
    "gpd_polygon_df.minimum_bounding_radius()"
   ]
  },
  {
   "cell_type": "code",
   "execution_count": null,
   "id": "17d73812-57c2-4973-83c4-f647a4d33bca",
   "metadata": {},
   "outputs": [],
   "source": []
  },
  {
   "cell_type": "markdown",
   "id": "f838bee6-29f2-4400-9c97-532a3150a7c7",
   "metadata": {},
   "source": [
    "We plot the points of the minimum bounding circle. Minimum bounding circle is described in [geopandas.GeoSeries.minimum_bounding_circle — GeoPandas 1.0.1+0.g747d66e.dirty documentation](https://geopandas.org/en/stable/docs/reference/api/geopandas.GeoSeries.minimum_bounding_circle.html#geopandas.GeoSeries.minimum_bounding_circle)."
   ]
  },
  {
   "cell_type": "code",
   "execution_count": 14,
   "id": "2cb371dc-5455-4d70-b484-858d35f8eb4a",
   "metadata": {
    "execution": {
     "iopub.execute_input": "2025-01-31T14:50:29.768376Z",
     "iopub.status.busy": "2025-01-31T14:50:29.767590Z",
     "iopub.status.idle": "2025-01-31T14:50:29.948116Z",
     "shell.execute_reply": "2025-01-31T14:50:29.946987Z",
     "shell.execute_reply.started": "2025-01-31T14:50:29.768319Z"
    }
   },
   "outputs": [
    {
     "data": {
      "text/plain": [
       "<Axes: >"
      ]
     },
     "execution_count": 14,
     "metadata": {},
     "output_type": "execute_result"
    },
    {
     "data": {
      "image/png": "[encoded data removed]",
      "text/plain": [
       "<Figure size 640x480 with 1 Axes>"
      ]
     },
     "metadata": {},
     "output_type": "display_data"
    }
   ],
   "source": [
    "gpd_polygon_df.minimum_bounding_circle().plot()"
   ]
  },
  {
   "cell_type": "code",
   "execution_count": null,
   "id": "a8dfd5e4-1b61-4c31-974b-8da8758171eb",
   "metadata": {},
   "outputs": [],
   "source": []
  },
  {
   "cell_type": "markdown",
   "id": "b1d39032-f486-4ce8-b204-2cf2ba059ab8",
   "metadata": {},
   "source": [
    "We plot the envelope (i.e. smallest rectangle around points). The envelope is described in [geopandas.GeoSeries.envelope — GeoPandas 1.0.1+0.g747d66e.dirty documentation](https://geopandas.org/en/stable/docs/reference/api/geopandas.GeoSeries.envelope.html#geopandas.GeoSeries.envelope)."
   ]
  },
  {
   "cell_type": "code",
   "execution_count": 15,
   "id": "0f6bcf92-3a6a-43ee-a894-8fa0ca72f1db",
   "metadata": {
    "execution": {
     "iopub.execute_input": "2025-01-31T14:50:29.950208Z",
     "iopub.status.busy": "2025-01-31T14:50:29.949737Z",
     "iopub.status.idle": "2025-01-31T14:50:30.117042Z",
     "shell.execute_reply": "2025-01-31T14:50:30.115604Z",
     "shell.execute_reply.started": "2025-01-31T14:50:29.950166Z"
    }
   },
   "outputs": [
    {
     "data": {
      "text/plain": [
       "<Axes: >"
      ]
     },
     "execution_count": 15,
     "metadata": {},
     "output_type": "execute_result"
    },
    {
     "data": {
      "image/png": "[encoded data removed]",
      "text/plain": [
       "<Figure size 640x480 with 1 Axes>"
      ]
     },
     "metadata": {},
     "output_type": "display_data"
    }
   ],
   "source": [
    "gpd_polygon_df.envelope.plot()"
   ]
  },
  {
   "cell_type": "code",
   "execution_count": null,
   "id": "89e1c67e-4a9e-4437-be8d-67247360b785",
   "metadata": {},
   "outputs": [],
   "source": []
  },
  {
   "cell_type": "markdown",
   "id": "7634969c-78d7-4336-bc95-3d26ca2603b0",
   "metadata": {},
   "source": [
    "# PyDeck Plots"
   ]
  },
  {
   "cell_type": "code",
   "execution_count": 16,
   "id": "42f2bd57-377c-4a2c-9727-8fbca7f8a430",
   "metadata": {
    "execution": {
     "iopub.execute_input": "2025-01-31T14:50:30.118862Z",
     "iopub.status.busy": "2025-01-31T14:50:30.118439Z",
     "iopub.status.idle": "2025-01-31T14:50:30.445559Z",
     "shell.execute_reply": "2025-01-31T14:50:30.444362Z",
     "shell.execute_reply.started": "2025-01-31T14:50:30.118822Z"
    }
   },
   "outputs": [
    {
     "data": {
      "text/html": [
       "\n",
       "        <iframe\n",
       "            width=\"100%\"\n",
       "            height=500\n",
       "            frameborder=\"0\"\n",
       "            srcdoc=\"&lt;!DOCTYPE html&gt;\n",
       "&lt;html&gt;\n",
       "  &lt;head&gt;\n",
       "    &lt;meta http-equiv=&quot;content-type&quot; content=&quot;text/html; charset=UTF-8&quot; /&gt;\n",
       "    &lt;title&gt;pydeck&lt;/title&gt;\n",
       "        &lt;script src=&quot;https://api.tiles.mapbox.com/mapbox-gl-js/v1.13.0/mapbox-gl.js&quot;&gt;&lt;/script&gt;\n",
       "        &lt;link rel=&quot;stylesheet&quot; href=&quot;https://maxcdn.bootstrapcdn.com/bootstrap/3.2.0/css/bootstrap-theme.min.css&quot; /&gt;\n",
       "    &lt;link rel=&quot;stylesheet&quot; href=&quot;https://maxcdn.bootstrapcdn.com/font-awesome/4.6.3/css/font-awesome.min.css&quot; /&gt;\n",
       "    &lt;script src=&#x27;https://cdn.jsdelivr.net/npm/@deck.gl/jupyter-widget@~9.0.*/dist/index.js&#x27;&gt;&lt;/script&gt;\n",
       "    &lt;style&gt;\n",
       "    body {\n",
       "  margin: 0;\n",
       "  padding: 0;\n",
       "  overflow: hidden;\n",
       "}\n",
       "\n",
       "#deck-container {\n",
       "  width: 100vw;\n",
       "  height: 100vh;\n",
       "}\n",
       "\n",
       "#deck-container canvas {\n",
       "  z-index: 1;\n",
       "  background: none;\n",
       "}\n",
       "    &lt;/style&gt;\n",
       "  &lt;/head&gt;\n",
       "  &lt;body&gt;\n",
       "    &lt;div id=&quot;deck-container&quot;&gt;\n",
       "    &lt;/div&gt;\n",
       "  &lt;/body&gt;\n",
       "  &lt;script&gt;\n",
       "    const container = document.getElementById(&#x27;deck-container&#x27;);\n",
       "    const jsonInput = {\n",
       "  &quot;initialViewState&quot;: {\n",
       "    &quot;latitude&quot;: 42.3672,\n",
       "    &quot;longitude&quot;: -71.09971,\n",
       "    &quot;maxZoom&quot;: 30,\n",
       "    &quot;minZoom&quot;: 1,\n",
       "    &quot;zoom&quot;: 13\n",
       "  },\n",
       "  &quot;layers&quot;: [\n",
       "    {\n",
       "      &quot;@@type&quot;: &quot;GeoJsonLayer&quot;,\n",
       "      &quot;data&quot;: [\n",
       "        {\n",
       "          &quot;geometry&quot;: {\n",
       "            &quot;coordinates&quot;: [\n",
       "              [\n",
       "                -71.11328166999994,\n",
       "                42.365841670000066\n",
       "              ],\n",
       "              [\n",
       "                -71.11188499999997,\n",
       "                42.36984333000004\n",
       "              ],\n",
       "              [\n",
       "                -71.11167832999996,\n",
       "                42.37433667000005\n",
       "              ],\n",
       "              [\n",
       "                -71.10969166999996,\n",
       "                42.36103000000003\n",
       "              ],\n",
       "              [\n",
       "                -71.10822666999996,\n",
       "                42.36298000000005\n",
       "              ],\n",
       "              [\n",
       "                -71.10814999999997,\n",
       "                42.36780600000003\n",
       "              ],\n",
       "              [\n",
       "                -71.10790832999999,\n",
       "                42.37200167000003\n",
       "              ],\n",
       "              [\n",
       "                -71.10723599999994,\n",
       "                42.355470000000025\n",
       "              ],\n",
       "              [\n",
       "                -71.10693999999995,\n",
       "                42.35930500000006\n",
       "              ],\n",
       "              [\n",
       "                -71.10433399999994,\n",
       "                42.36425600000007\n",
       "              ],\n",
       "              [\n",
       "                -71.10423666999998,\n",
       "                42.374520000000075\n",
       "              ],\n",
       "              [\n",
       "                -71.10368166999996,\n",
       "                42.36973333000003\n",
       "              ],\n",
       "              [\n",
       "                -71.10236666999998,\n",
       "                42.36080817000004\n",
       "              ],\n",
       "              [\n",
       "                -71.10128999999995,\n",
       "                42.35912667000008\n",
       "              ],\n",
       "              [\n",
       "                -71.10010499999999,\n",
       "                42.36664500000006\n",
       "              ],\n",
       "              [\n",
       "                -71.09879666999996,\n",
       "                42.36322500000006\n",
       "              ],\n",
       "              [\n",
       "                -71.09813166999999,\n",
       "                42.35965167000006\n",
       "              ],\n",
       "              [\n",
       "                -71.09794832999995,\n",
       "                42.36926667000006\n",
       "              ],\n",
       "              [\n",
       "                -71.09578499999998,\n",
       "                42.36697700000008\n",
       "              ],\n",
       "              [\n",
       "                -71.09208332999998,\n",
       "                42.36240000000004\n",
       "              ],\n",
       "              [\n",
       "                -71.09156332999999,\n",
       "                42.36452667000003\n",
       "              ],\n",
       "              [\n",
       "                -71.09004999999996,\n",
       "                42.36620833000006\n",
       "              ],\n",
       "              [\n",
       "                -71.08695832999996,\n",
       "                42.37283333000005\n",
       "              ]\n",
       "            ],\n",
       "            &quot;type&quot;: &quot;MultiPoint&quot;\n",
       "          }\n",
       "        }\n",
       "      ],\n",
       "      &quot;getFillColor&quot;: [\n",
       "        0,\n",
       "        0,\n",
       "        255\n",
       "      ],\n",
       "      &quot;getPointRadius&quot;: 5,\n",
       "      &quot;id&quot;: &quot;91467667-8526-4125-8ec0-f7daf1c6711a&quot;\n",
       "    }\n",
       "  ],\n",
       "  &quot;mapProvider&quot;: &quot;carto&quot;,\n",
       "  &quot;mapStyle&quot;: &quot;https://basemaps.cartocdn.com/gl/positron-gl-style/style.json&quot;,\n",
       "  &quot;views&quot;: [\n",
       "    {\n",
       "      &quot;@@type&quot;: &quot;MapView&quot;,\n",
       "      &quot;controller&quot;: true\n",
       "    }\n",
       "  ]\n",
       "};\n",
       "    const tooltip = true;\n",
       "    const customLibraries = null;\n",
       "    const configuration = null;\n",
       "\n",
       "    const deckInstance = createDeck({\n",
       "                  container,\n",
       "      jsonInput,\n",
       "      tooltip,\n",
       "      customLibraries,\n",
       "      configuration\n",
       "    });\n",
       "\n",
       "  &lt;/script&gt;\n",
       "&lt;/html&gt;\"\n",
       "        ></iframe>\n",
       "    "
      ],
      "text/plain": [
       "<IPython.core.display.HTML object>"
      ]
     },
     "execution_count": 16,
     "metadata": {},
     "output_type": "execute_result"
    }
   ],
   "source": [
    "polygon_layer = pdk.Layer(\n",
    "    \"GeoJsonLayer\",\n",
    "    gpd_polygon_df,\n",
    "    get_fill_color=[0, 0, 255],\n",
    "    get_point_radius=5\n",
    ")\n",
    "\n",
    "# Set the viewport location\n",
    "view_state = pdk.ViewState(\n",
    "    longitude=-71.09971,\n",
    "    latitude=42.3672,\n",
    "    zoom=13,\n",
    "    min_zoom=1,\n",
    "    max_zoom=30\n",
    ")\n",
    "\n",
    "pdk.Deck(\n",
    "    map_style=\"light\",\n",
    "    layers=[polygon_layer], \n",
    "    initial_view_state = view_state\n",
    ").show()\n"
   ]
  },
  {
   "cell_type": "code",
   "execution_count": null,
   "id": "9495473d-2519-4ea6-9c68-e628c05d9a00",
   "metadata": {},
   "outputs": [],
   "source": []
  },
  {
   "cell_type": "code",
   "execution_count": 17,
   "id": "1d98898c-e282-4462-b278-673f99beb61c",
   "metadata": {
    "execution": {
     "iopub.execute_input": "2025-01-31T14:50:30.446697Z",
     "iopub.status.busy": "2025-01-31T14:50:30.446404Z",
     "iopub.status.idle": "2025-01-31T14:50:30.471849Z",
     "shell.execute_reply": "2025-01-31T14:50:30.470557Z",
     "shell.execute_reply.started": "2025-01-31T14:50:30.446672Z"
    }
   },
   "outputs": [
    {
     "data": {
      "text/html": [
       "\n",
       "        <iframe\n",
       "            width=\"100%\"\n",
       "            height=500\n",
       "            frameborder=\"0\"\n",
       "            srcdoc=\"&lt;!DOCTYPE html&gt;\n",
       "&lt;html&gt;\n",
       "  &lt;head&gt;\n",
       "    &lt;meta http-equiv=&quot;content-type&quot; content=&quot;text/html; charset=UTF-8&quot; /&gt;\n",
       "    &lt;title&gt;pydeck&lt;/title&gt;\n",
       "        &lt;script src=&quot;https://api.tiles.mapbox.com/mapbox-gl-js/v1.13.0/mapbox-gl.js&quot;&gt;&lt;/script&gt;\n",
       "        &lt;link rel=&quot;stylesheet&quot; href=&quot;https://maxcdn.bootstrapcdn.com/bootstrap/3.2.0/css/bootstrap-theme.min.css&quot; /&gt;\n",
       "    &lt;link rel=&quot;stylesheet&quot; href=&quot;https://maxcdn.bootstrapcdn.com/font-awesome/4.6.3/css/font-awesome.min.css&quot; /&gt;\n",
       "    &lt;script src=&#x27;https://cdn.jsdelivr.net/npm/@deck.gl/jupyter-widget@~9.0.*/dist/index.js&#x27;&gt;&lt;/script&gt;\n",
       "    &lt;style&gt;\n",
       "    body {\n",
       "  margin: 0;\n",
       "  padding: 0;\n",
       "  overflow: hidden;\n",
       "}\n",
       "\n",
       "#deck-container {\n",
       "  width: 100vw;\n",
       "  height: 100vh;\n",
       "}\n",
       "\n",
       "#deck-container canvas {\n",
       "  z-index: 1;\n",
       "  background: none;\n",
       "}\n",
       "    &lt;/style&gt;\n",
       "  &lt;/head&gt;\n",
       "  &lt;body&gt;\n",
       "    &lt;div id=&quot;deck-container&quot;&gt;\n",
       "    &lt;/div&gt;\n",
       "  &lt;/body&gt;\n",
       "  &lt;script&gt;\n",
       "    const container = document.getElementById(&#x27;deck-container&#x27;);\n",
       "    const jsonInput = {\n",
       "  &quot;initialViewState&quot;: {\n",
       "    &quot;latitude&quot;: 42.3672,\n",
       "    &quot;longitude&quot;: -71.09971,\n",
       "    &quot;maxZoom&quot;: 30,\n",
       "    &quot;minZoom&quot;: 1,\n",
       "    &quot;zoom&quot;: 13\n",
       "  },\n",
       "  &quot;layers&quot;: [\n",
       "    {\n",
       "      &quot;@@type&quot;: &quot;GeoJsonLayer&quot;,\n",
       "      &quot;data&quot;: [\n",
       "        {\n",
       "          &quot;geometry&quot;: {\n",
       "            &quot;coordinates&quot;: [\n",
       "              [\n",
       "                [\n",
       "                  -71.11188499999997,\n",
       "                  42.36984333000004\n",
       "                ],\n",
       "                [\n",
       "                  -71.11167832999996,\n",
       "                  42.37433667000005\n",
       "                ],\n",
       "                [\n",
       "                  -71.10790832999999,\n",
       "                  42.37200167000003\n",
       "                ],\n",
       "                [\n",
       "                  -71.10423666999998,\n",
       "                  42.374520000000075\n",
       "                ],\n",
       "                [\n",
       "                  -71.10368166999996,\n",
       "                  42.36973333000003\n",
       "                ],\n",
       "                [\n",
       "                  -71.10010499999999,\n",
       "                  42.36664500000006\n",
       "                ],\n",
       "                [\n",
       "                  -71.09794832999995,\n",
       "                  42.36926667000006\n",
       "                ],\n",
       "                [\n",
       "                  -71.09578499999998,\n",
       "                  42.36697700000008\n",
       "                ],\n",
       "                [\n",
       "                  -71.08695832999996,\n",
       "                  42.37283333000005\n",
       "                ],\n",
       "                [\n",
       "                  -71.09004999999996,\n",
       "                  42.36620833000006\n",
       "                ],\n",
       "                [\n",
       "                  -71.09156332999999,\n",
       "                  42.36452667000003\n",
       "                ],\n",
       "                [\n",
       "                  -71.09208332999998,\n",
       "                  42.36240000000004\n",
       "                ],\n",
       "                [\n",
       "                  -71.09879666999996,\n",
       "                  42.36322500000006\n",
       "                ],\n",
       "                [\n",
       "                  -71.09813166999999,\n",
       "                  42.35965167000006\n",
       "                ],\n",
       "                [\n",
       "                  -71.10128999999995,\n",
       "                  42.35912667000008\n",
       "                ],\n",
       "                [\n",
       "                  -71.10236666999998,\n",
       "                  42.36080817000004\n",
       "                ],\n",
       "                [\n",
       "                  -71.10693999999995,\n",
       "                  42.35930500000006\n",
       "                ],\n",
       "                [\n",
       "                  -71.10723599999994,\n",
       "                  42.355470000000025\n",
       "                ],\n",
       "                [\n",
       "                  -71.10969166999996,\n",
       "                  42.36103000000003\n",
       "                ],\n",
       "                [\n",
       "                  -71.10822666999996,\n",
       "                  42.36298000000005\n",
       "                ],\n",
       "                [\n",
       "                  -71.10433399999994,\n",
       "                  42.36425600000007\n",
       "                ],\n",
       "                [\n",
       "                  -71.10814999999997,\n",
       "                  42.36780600000003\n",
       "                ],\n",
       "                [\n",
       "                  -71.11328166999994,\n",
       "                  42.365841670000066\n",
       "                ],\n",
       "                [\n",
       "                  -71.11188499999997,\n",
       "                  42.36984333000004\n",
       "                ]\n",
       "              ]\n",
       "            ],\n",
       "            &quot;type&quot;: &quot;Polygon&quot;\n",
       "          }\n",
       "        }\n",
       "      ],\n",
       "      &quot;getFillColor&quot;: [\n",
       "        0,\n",
       "        0,\n",
       "        255\n",
       "      ],\n",
       "      &quot;getPointRadius&quot;: 5,\n",
       "      &quot;id&quot;: &quot;b8917ff6-b13d-4553-836c-5b0cf3370f36&quot;\n",
       "    }\n",
       "  ],\n",
       "  &quot;mapProvider&quot;: &quot;carto&quot;,\n",
       "  &quot;mapStyle&quot;: &quot;https://basemaps.cartocdn.com/gl/positron-gl-style/style.json&quot;,\n",
       "  &quot;views&quot;: [\n",
       "    {\n",
       "      &quot;@@type&quot;: &quot;MapView&quot;,\n",
       "      &quot;controller&quot;: true\n",
       "    }\n",
       "  ]\n",
       "};\n",
       "    const tooltip = true;\n",
       "    const customLibraries = null;\n",
       "    const configuration = null;\n",
       "\n",
       "    const deckInstance = createDeck({\n",
       "                  container,\n",
       "      jsonInput,\n",
       "      tooltip,\n",
       "      customLibraries,\n",
       "      configuration\n",
       "    });\n",
       "\n",
       "  &lt;/script&gt;\n",
       "&lt;/html&gt;\"\n",
       "        ></iframe>\n",
       "    "
      ],
      "text/plain": [
       "<IPython.core.display.HTML object>"
      ]
     },
     "execution_count": 17,
     "metadata": {},
     "output_type": "execute_result"
    }
   ],
   "source": [
    "polygon_hull_layer = pdk.Layer(\n",
    "    \"GeoJsonLayer\",\n",
    "    gpd_polygon_df.concave_hull(),\n",
    "    get_fill_color=[0, 0, 255],\n",
    "    get_point_radius=5\n",
    ")\n",
    "\n",
    "\n",
    "pdk.Deck(\n",
    "    map_style=\"light\",\n",
    "    layers=[polygon_hull_layer], \n",
    "    initial_view_state = view_state\n",
    ").show()\n"
   ]
  },
  {
   "cell_type": "code",
   "execution_count": null,
   "id": "2a1f4b99-97c7-4320-8248-71fa6dcb2f6a",
   "metadata": {},
   "outputs": [],
   "source": []
  },
  {
   "cell_type": "code",
   "execution_count": 18,
   "id": "367152c0-68a4-4eea-9e0d-be7ddffcb23e",
   "metadata": {
    "execution": {
     "iopub.execute_input": "2025-01-31T14:50:30.472912Z",
     "iopub.status.busy": "2025-01-31T14:50:30.472612Z",
     "iopub.status.idle": "2025-01-31T14:50:30.521325Z",
     "shell.execute_reply": "2025-01-31T14:50:30.519844Z",
     "shell.execute_reply.started": "2025-01-31T14:50:30.472885Z"
    }
   },
   "outputs": [
    {
     "data": {
      "text/html": [
       "\n",
       "        <iframe\n",
       "            width=\"100%\"\n",
       "            height=500\n",
       "            frameborder=\"0\"\n",
       "            srcdoc=\"&lt;!DOCTYPE html&gt;\n",
       "&lt;html&gt;\n",
       "  &lt;head&gt;\n",
       "    &lt;meta http-equiv=&quot;content-type&quot; content=&quot;text/html; charset=UTF-8&quot; /&gt;\n",
       "    &lt;title&gt;pydeck&lt;/title&gt;\n",
       "        &lt;script src=&quot;https://api.tiles.mapbox.com/mapbox-gl-js/v1.13.0/mapbox-gl.js&quot;&gt;&lt;/script&gt;\n",
       "        &lt;link rel=&quot;stylesheet&quot; href=&quot;https://maxcdn.bootstrapcdn.com/bootstrap/3.2.0/css/bootstrap-theme.min.css&quot; /&gt;\n",
       "    &lt;link rel=&quot;stylesheet&quot; href=&quot;https://maxcdn.bootstrapcdn.com/font-awesome/4.6.3/css/font-awesome.min.css&quot; /&gt;\n",
       "    &lt;script src=&#x27;https://cdn.jsdelivr.net/npm/@deck.gl/jupyter-widget@~9.0.*/dist/index.js&#x27;&gt;&lt;/script&gt;\n",
       "    &lt;style&gt;\n",
       "    body {\n",
       "  margin: 0;\n",
       "  padding: 0;\n",
       "  overflow: hidden;\n",
       "}\n",
       "\n",
       "#deck-container {\n",
       "  width: 100vw;\n",
       "  height: 100vh;\n",
       "}\n",
       "\n",
       "#deck-container canvas {\n",
       "  z-index: 1;\n",
       "  background: none;\n",
       "}\n",
       "    &lt;/style&gt;\n",
       "  &lt;/head&gt;\n",
       "  &lt;body&gt;\n",
       "    &lt;div id=&quot;deck-container&quot;&gt;\n",
       "    &lt;/div&gt;\n",
       "  &lt;/body&gt;\n",
       "  &lt;script&gt;\n",
       "    const container = document.getElementById(&#x27;deck-container&#x27;);\n",
       "    const jsonInput = {\n",
       "  &quot;initialViewState&quot;: {\n",
       "    &quot;latitude&quot;: 42.3672,\n",
       "    &quot;longitude&quot;: -71.09971,\n",
       "    &quot;maxZoom&quot;: 30,\n",
       "    &quot;minZoom&quot;: 1,\n",
       "    &quot;zoom&quot;: 13\n",
       "  },\n",
       "  &quot;layers&quot;: [\n",
       "    {\n",
       "      &quot;@@type&quot;: &quot;GeoJsonLayer&quot;,\n",
       "      &quot;data&quot;: [\n",
       "        {\n",
       "          &quot;geometry&quot;: {\n",
       "            &quot;coordinates&quot;: [\n",
       "              [\n",
       "                [\n",
       "                  -71.10723599999994,\n",
       "                  42.355470000000025\n",
       "                ],\n",
       "                [\n",
       "                  -71.11328166999994,\n",
       "                  42.365841670000066\n",
       "                ],\n",
       "                [\n",
       "                  -71.11167832999996,\n",
       "                  42.37433667000005\n",
       "                ],\n",
       "                [\n",
       "                  -71.10423666999998,\n",
       "                  42.374520000000075\n",
       "                ],\n",
       "                [\n",
       "                  -71.08695832999996,\n",
       "                  42.37283333000005\n",
       "                ],\n",
       "                [\n",
       "                  -71.09004999999996,\n",
       "                  42.36620833000006\n",
       "                ],\n",
       "                [\n",
       "                  -71.09208332999998,\n",
       "                  42.36240000000004\n",
       "                ],\n",
       "                [\n",
       "                  -71.10723599999994,\n",
       "                  42.355470000000025\n",
       "                ]\n",
       "              ]\n",
       "            ],\n",
       "            &quot;type&quot;: &quot;Polygon&quot;\n",
       "          }\n",
       "        }\n",
       "      ],\n",
       "      &quot;getFillColor&quot;: [\n",
       "        0,\n",
       "        0,\n",
       "        255\n",
       "      ],\n",
       "      &quot;getPointRadius&quot;: 5,\n",
       "      &quot;id&quot;: &quot;64714b67-2e2d-4d37-8cf9-601f915ed935&quot;\n",
       "    }\n",
       "  ],\n",
       "  &quot;mapProvider&quot;: &quot;carto&quot;,\n",
       "  &quot;mapStyle&quot;: &quot;https://basemaps.cartocdn.com/gl/positron-gl-style/style.json&quot;,\n",
       "  &quot;views&quot;: [\n",
       "    {\n",
       "      &quot;@@type&quot;: &quot;MapView&quot;,\n",
       "      &quot;controller&quot;: true\n",
       "    }\n",
       "  ]\n",
       "};\n",
       "    const tooltip = true;\n",
       "    const customLibraries = null;\n",
       "    const configuration = null;\n",
       "\n",
       "    const deckInstance = createDeck({\n",
       "                  container,\n",
       "      jsonInput,\n",
       "      tooltip,\n",
       "      customLibraries,\n",
       "      configuration\n",
       "    });\n",
       "\n",
       "  &lt;/script&gt;\n",
       "&lt;/html&gt;\"\n",
       "        ></iframe>\n",
       "    "
      ],
      "text/plain": [
       "<IPython.core.display.HTML object>"
      ]
     },
     "execution_count": 18,
     "metadata": {},
     "output_type": "execute_result"
    }
   ],
   "source": [
    "polygon_convex_layer = pdk.Layer(\n",
    "    \"GeoJsonLayer\",\n",
    "    gpd_polygon_df.convex_hull,\n",
    "    get_fill_color=[0, 0, 255],\n",
    "    get_point_radius=5\n",
    ")\n",
    "\n",
    "\n",
    "pdk.Deck(\n",
    "    map_style=\"light\",\n",
    "    layers=[polygon_convex_layer], \n",
    "    initial_view_state = view_state\n",
    ").show()\n"
   ]
  },
  {
   "cell_type": "code",
   "execution_count": null,
   "id": "8a367449-b962-447f-8288-3b7c0eea3650",
   "metadata": {},
   "outputs": [],
   "source": []
  },
  {
   "cell_type": "code",
   "execution_count": 19,
   "id": "c831ff28-b87f-4b22-aa10-a53a916ff5cf",
   "metadata": {
    "execution": {
     "iopub.execute_input": "2025-01-31T14:50:30.522095Z",
     "iopub.status.busy": "2025-01-31T14:50:30.521891Z",
     "iopub.status.idle": "2025-01-31T14:50:30.557566Z",
     "shell.execute_reply": "2025-01-31T14:50:30.556448Z",
     "shell.execute_reply.started": "2025-01-31T14:50:30.522078Z"
    }
   },
   "outputs": [
    {
     "data": {
      "text/html": [
       "\n",
       "        <iframe\n",
       "            width=\"100%\"\n",
       "            height=500\n",
       "            frameborder=\"0\"\n",
       "            srcdoc=\"&lt;!DOCTYPE html&gt;\n",
       "&lt;html&gt;\n",
       "  &lt;head&gt;\n",
       "    &lt;meta http-equiv=&quot;content-type&quot; content=&quot;text/html; charset=UTF-8&quot; /&gt;\n",
       "    &lt;title&gt;pydeck&lt;/title&gt;\n",
       "        &lt;script src=&quot;https://api.tiles.mapbox.com/mapbox-gl-js/v1.13.0/mapbox-gl.js&quot;&gt;&lt;/script&gt;\n",
       "        &lt;link rel=&quot;stylesheet&quot; href=&quot;https://maxcdn.bootstrapcdn.com/bootstrap/3.2.0/css/bootstrap-theme.min.css&quot; /&gt;\n",
       "    &lt;link rel=&quot;stylesheet&quot; href=&quot;https://maxcdn.bootstrapcdn.com/font-awesome/4.6.3/css/font-awesome.min.css&quot; /&gt;\n",
       "    &lt;script src=&#x27;https://cdn.jsdelivr.net/npm/@deck.gl/jupyter-widget@~9.0.*/dist/index.js&#x27;&gt;&lt;/script&gt;\n",
       "    &lt;style&gt;\n",
       "    body {\n",
       "  margin: 0;\n",
       "  padding: 0;\n",
       "  overflow: hidden;\n",
       "}\n",
       "\n",
       "#deck-container {\n",
       "  width: 100vw;\n",
       "  height: 100vh;\n",
       "}\n",
       "\n",
       "#deck-container canvas {\n",
       "  z-index: 1;\n",
       "  background: none;\n",
       "}\n",
       "    &lt;/style&gt;\n",
       "  &lt;/head&gt;\n",
       "  &lt;body&gt;\n",
       "    &lt;div id=&quot;deck-container&quot;&gt;\n",
       "    &lt;/div&gt;\n",
       "  &lt;/body&gt;\n",
       "  &lt;script&gt;\n",
       "    const container = document.getElementById(&#x27;deck-container&#x27;);\n",
       "    const jsonInput = {\n",
       "  &quot;initialViewState&quot;: {\n",
       "    &quot;latitude&quot;: 42.3672,\n",
       "    &quot;longitude&quot;: -71.09971,\n",
       "    &quot;maxZoom&quot;: 30,\n",
       "    &quot;minZoom&quot;: 1,\n",
       "    &quot;zoom&quot;: 13\n",
       "  },\n",
       "  &quot;layers&quot;: [\n",
       "    {\n",
       "      &quot;@@type&quot;: &quot;GeoJsonLayer&quot;,\n",
       "      &quot;data&quot;: [\n",
       "        {\n",
       "          &quot;geometry&quot;: {\n",
       "            &quot;coordinates&quot;: [\n",
       "              [\n",
       "                [\n",
       "                  -71.08576881355276,\n",
       "                  42.36719917535738\n",
       "                ],\n",
       "                [\n",
       "                  -71.08603662579,\n",
       "                  42.36448003208082\n",
       "                ],\n",
       "                [\n",
       "                  -71.08682977062763,\n",
       "                  42.36186538395547\n",
       "                ],\n",
       "                [\n",
       "                  -71.08811776795433,\n",
       "                  42.35945571044247\n",
       "                ],\n",
       "                [\n",
       "                  -71.08985112075517,\n",
       "                  42.357343613943556\n",
       "                ],\n",
       "                [\n",
       "                  -71.09196321725408,\n",
       "                  42.35561026114272\n",
       "                ],\n",
       "                [\n",
       "                  -71.09437289076708,\n",
       "                  42.354322263816016\n",
       "                ],\n",
       "                [\n",
       "                  -71.09698753889244,\n",
       "                  42.35352911897839\n",
       "                ],\n",
       "                [\n",
       "                  -71.09970668216899,\n",
       "                  42.35326130674115\n",
       "                ],\n",
       "                [\n",
       "                  -71.10242582544554,\n",
       "                  42.35352911897839\n",
       "                ],\n",
       "                [\n",
       "                  -71.1050404735709,\n",
       "                  42.354322263816016\n",
       "                ],\n",
       "                [\n",
       "                  -71.1074501470839,\n",
       "                  42.35561026114272\n",
       "                ],\n",
       "                [\n",
       "                  -71.1095622435828,\n",
       "                  42.357343613943556\n",
       "                ],\n",
       "                [\n",
       "                  -71.11129559638364,\n",
       "                  42.35945571044247\n",
       "                ],\n",
       "                [\n",
       "                  -71.11258359371034,\n",
       "                  42.36186538395547\n",
       "                ],\n",
       "                [\n",
       "                  -71.11337673854797,\n",
       "                  42.36448003208082\n",
       "                ],\n",
       "                [\n",
       "                  -71.11364455078521,\n",
       "                  42.36719917535738\n",
       "                ],\n",
       "                [\n",
       "                  -71.11337673854797,\n",
       "                  42.369918318633935\n",
       "                ],\n",
       "                [\n",
       "                  -71.11258359371034,\n",
       "                  42.37253296675929\n",
       "                ],\n",
       "                [\n",
       "                  -71.11129559638364,\n",
       "                  42.37494264027229\n",
       "                ],\n",
       "                [\n",
       "                  -71.1095622435828,\n",
       "                  42.3770547367712\n",
       "                ],\n",
       "                [\n",
       "                  -71.1074501470839,\n",
       "                  42.37878808957203\n",
       "                ],\n",
       "                [\n",
       "                  -71.1050404735709,\n",
       "                  42.38007608689874\n",
       "                ],\n",
       "                [\n",
       "                  -71.10242582544554,\n",
       "                  42.38086923173636\n",
       "                ],\n",
       "                [\n",
       "                  -71.09970668216899,\n",
       "                  42.3811370439736\n",
       "                ],\n",
       "                [\n",
       "                  -71.09698753889244,\n",
       "                  42.38086923173636\n",
       "                ],\n",
       "                [\n",
       "                  -71.09437289076708,\n",
       "                  42.38007608689874\n",
       "                ],\n",
       "                [\n",
       "                  -71.09196321725408,\n",
       "                  42.37878808957203\n",
       "                ],\n",
       "                [\n",
       "                  -71.08985112075517,\n",
       "                  42.3770547367712\n",
       "                ],\n",
       "                [\n",
       "                  -71.08811776795433,\n",
       "                  42.37494264027229\n",
       "                ],\n",
       "                [\n",
       "                  -71.08682977062763,\n",
       "                  42.37253296675929\n",
       "                ],\n",
       "                [\n",
       "                  -71.08603662579,\n",
       "                  42.369918318633935\n",
       "                ],\n",
       "                [\n",
       "                  -71.08576881355276,\n",
       "                  42.36719917535738\n",
       "                ]\n",
       "              ]\n",
       "            ],\n",
       "            &quot;type&quot;: &quot;Polygon&quot;\n",
       "          }\n",
       "        }\n",
       "      ],\n",
       "      &quot;getFillColor&quot;: [\n",
       "        0,\n",
       "        0,\n",
       "        255\n",
       "      ],\n",
       "      &quot;getPointRadius&quot;: 5,\n",
       "      &quot;id&quot;: &quot;6549abae-d96e-4da8-bc5d-3c8fb9726d16&quot;\n",
       "    }\n",
       "  ],\n",
       "  &quot;mapProvider&quot;: &quot;carto&quot;,\n",
       "  &quot;mapStyle&quot;: &quot;https://basemaps.cartocdn.com/gl/positron-gl-style/style.json&quot;,\n",
       "  &quot;views&quot;: [\n",
       "    {\n",
       "      &quot;@@type&quot;: &quot;MapView&quot;,\n",
       "      &quot;controller&quot;: true\n",
       "    }\n",
       "  ]\n",
       "};\n",
       "    const tooltip = true;\n",
       "    const customLibraries = null;\n",
       "    const configuration = null;\n",
       "\n",
       "    const deckInstance = createDeck({\n",
       "                  container,\n",
       "      jsonInput,\n",
       "      tooltip,\n",
       "      customLibraries,\n",
       "      configuration\n",
       "    });\n",
       "\n",
       "  &lt;/script&gt;\n",
       "&lt;/html&gt;\"\n",
       "        ></iframe>\n",
       "    "
      ],
      "text/plain": [
       "<IPython.core.display.HTML object>"
      ]
     },
     "execution_count": 19,
     "metadata": {},
     "output_type": "execute_result"
    }
   ],
   "source": [
    "polygon_circle_layer = pdk.Layer(\n",
    "    \"GeoJsonLayer\",\n",
    "    gpd_polygon_df.minimum_bounding_circle(),\n",
    "    get_fill_color=[0, 0, 255],\n",
    "    get_point_radius=5\n",
    ")\n",
    "\n",
    "\n",
    "pdk.Deck(\n",
    "    map_style=\"light\",\n",
    "    layers=[polygon_circle_layer], \n",
    "    initial_view_state = view_state\n",
    ").show()\n"
   ]
  },
  {
   "cell_type": "code",
   "execution_count": null,
   "id": "60986101-f3d3-436e-8088-698b5aa72725",
   "metadata": {},
   "outputs": [],
   "source": []
  },
  {
   "cell_type": "code",
   "execution_count": 20,
   "id": "cb45c86e-419e-4f17-bd35-0df454398426",
   "metadata": {
    "execution": {
     "iopub.execute_input": "2025-01-31T14:50:30.559051Z",
     "iopub.status.busy": "2025-01-31T14:50:30.558695Z",
     "iopub.status.idle": "2025-01-31T14:50:30.589704Z",
     "shell.execute_reply": "2025-01-31T14:50:30.588417Z",
     "shell.execute_reply.started": "2025-01-31T14:50:30.559016Z"
    }
   },
   "outputs": [
    {
     "data": {
      "text/html": [
       "\n",
       "        <iframe\n",
       "            width=\"100%\"\n",
       "            height=500\n",
       "            frameborder=\"0\"\n",
       "            srcdoc=\"&lt;!DOCTYPE html&gt;\n",
       "&lt;html&gt;\n",
       "  &lt;head&gt;\n",
       "    &lt;meta http-equiv=&quot;content-type&quot; content=&quot;text/html; charset=UTF-8&quot; /&gt;\n",
       "    &lt;title&gt;pydeck&lt;/title&gt;\n",
       "        &lt;script src=&quot;https://api.tiles.mapbox.com/mapbox-gl-js/v1.13.0/mapbox-gl.js&quot;&gt;&lt;/script&gt;\n",
       "        &lt;link rel=&quot;stylesheet&quot; href=&quot;https://maxcdn.bootstrapcdn.com/bootstrap/3.2.0/css/bootstrap-theme.min.css&quot; /&gt;\n",
       "    &lt;link rel=&quot;stylesheet&quot; href=&quot;https://maxcdn.bootstrapcdn.com/font-awesome/4.6.3/css/font-awesome.min.css&quot; /&gt;\n",
       "    &lt;script src=&#x27;https://cdn.jsdelivr.net/npm/@deck.gl/jupyter-widget@~9.0.*/dist/index.js&#x27;&gt;&lt;/script&gt;\n",
       "    &lt;style&gt;\n",
       "    body {\n",
       "  margin: 0;\n",
       "  padding: 0;\n",
       "  overflow: hidden;\n",
       "}\n",
       "\n",
       "#deck-container {\n",
       "  width: 100vw;\n",
       "  height: 100vh;\n",
       "}\n",
       "\n",
       "#deck-container canvas {\n",
       "  z-index: 1;\n",
       "  background: none;\n",
       "}\n",
       "    &lt;/style&gt;\n",
       "  &lt;/head&gt;\n",
       "  &lt;body&gt;\n",
       "    &lt;div id=&quot;deck-container&quot;&gt;\n",
       "    &lt;/div&gt;\n",
       "  &lt;/body&gt;\n",
       "  &lt;script&gt;\n",
       "    const container = document.getElementById(&#x27;deck-container&#x27;);\n",
       "    const jsonInput = {\n",
       "  &quot;initialViewState&quot;: {\n",
       "    &quot;latitude&quot;: 42.3672,\n",
       "    &quot;longitude&quot;: -71.09971,\n",
       "    &quot;maxZoom&quot;: 30,\n",
       "    &quot;minZoom&quot;: 1,\n",
       "    &quot;zoom&quot;: 13\n",
       "  },\n",
       "  &quot;layers&quot;: [\n",
       "    {\n",
       "      &quot;@@type&quot;: &quot;GeoJsonLayer&quot;,\n",
       "      &quot;data&quot;: [\n",
       "        {\n",
       "          &quot;geometry&quot;: {\n",
       "            &quot;coordinates&quot;: [\n",
       "              [\n",
       "                [\n",
       "                  -71.11328166999994,\n",
       "                  42.355470000000025\n",
       "                ],\n",
       "                [\n",
       "                  -71.08695832999996,\n",
       "                  42.355470000000025\n",
       "                ],\n",
       "                [\n",
       "                  -71.08695832999996,\n",
       "                  42.374520000000075\n",
       "                ],\n",
       "                [\n",
       "                  -71.11328166999994,\n",
       "                  42.374520000000075\n",
       "                ],\n",
       "                [\n",
       "                  -71.11328166999994,\n",
       "                  42.355470000000025\n",
       "                ]\n",
       "              ]\n",
       "            ],\n",
       "            &quot;type&quot;: &quot;Polygon&quot;\n",
       "          }\n",
       "        }\n",
       "      ],\n",
       "      &quot;getFillColor&quot;: [\n",
       "        0,\n",
       "        0,\n",
       "        255\n",
       "      ],\n",
       "      &quot;id&quot;: &quot;a950073e-3d07-4be2-8e12-0ca0481bcaad&quot;\n",
       "    }\n",
       "  ],\n",
       "  &quot;mapProvider&quot;: &quot;carto&quot;,\n",
       "  &quot;mapStyle&quot;: &quot;https://basemaps.cartocdn.com/gl/positron-gl-style/style.json&quot;,\n",
       "  &quot;views&quot;: [\n",
       "    {\n",
       "      &quot;@@type&quot;: &quot;MapView&quot;,\n",
       "      &quot;controller&quot;: true\n",
       "    }\n",
       "  ]\n",
       "};\n",
       "    const tooltip = true;\n",
       "    const customLibraries = null;\n",
       "    const configuration = null;\n",
       "\n",
       "    const deckInstance = createDeck({\n",
       "                  container,\n",
       "      jsonInput,\n",
       "      tooltip,\n",
       "      customLibraries,\n",
       "      configuration\n",
       "    });\n",
       "\n",
       "  &lt;/script&gt;\n",
       "&lt;/html&gt;\"\n",
       "        ></iframe>\n",
       "    "
      ],
      "text/plain": [
       "<IPython.core.display.HTML object>"
      ]
     },
     "execution_count": 20,
     "metadata": {},
     "output_type": "execute_result"
    }
   ],
   "source": [
    "polygon_rectabgle_layer = pdk.Layer(\n",
    "    \"GeoJsonLayer\",\n",
    "    gpd_polygon_df.envelope,\n",
    "    get_fill_color=[0, 0, 255],\n",
    ")\n",
    "\n",
    "\n",
    "pdk.Deck(\n",
    "    map_style=\"light\",\n",
    "    layers=[polygon_rectabgle_layer], \n",
    "    initial_view_state = view_state\n",
    ").show()\n"
   ]
  },
  {
   "cell_type": "code",
   "execution_count": null,
   "id": "6823a230-8e2d-4b6c-b495-74fc63a86067",
   "metadata": {},
   "outputs": [],
   "source": []
  },
  {
   "cell_type": "code",
   "execution_count": null,
   "id": "a4847074-c8b9-43c9-895d-19aea45f3526",
   "metadata": {},
   "outputs": [],
   "source": []
  }
 ],
 "metadata": {
  "kernelspec": {
   "display_name": "Python 3 (ipykernel)",
   "language": "python",
   "name": "python3"
  },
  "language_info": {
   "codemirror_mode": {
    "name": "ipython",
    "version": 3
   },
   "file_extension": ".py",
   "mimetype": "text/x-python",
   "name": "python",
   "nbconvert_exporter": "python",
   "pygments_lexer": "ipython3",
   "version": "3.13.1"
  }
 },
 "nbformat": 4,
 "nbformat_minor": 5
}
